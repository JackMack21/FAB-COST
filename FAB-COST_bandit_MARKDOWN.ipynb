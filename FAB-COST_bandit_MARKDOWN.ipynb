{
 "cells": [
  {
   "cell_type": "markdown",
   "metadata": {},
   "source": [
    "# FAB-COST\n",
    "\n",
    "The cells found below contain the code for the contextual bandit algorithm known as FAB-COST (ref?). \n",
    "For this demonstration the data is fed in as a batch although the algorithm could easily be tweeked to work with streming data. \n"
   ]
  },
  {
   "cell_type": "code",
   "execution_count": 7,
   "metadata": {},
   "outputs": [],
   "source": [
    "%matplotlib inline\n",
    "import numpy as np\n",
    "import pandas as pd\n",
    "import scipy.stats as st\n",
    "import matplotlib.pyplot as plt\n",
    "import pylab\n",
    "from random import randint\n",
    "import matplotlib.patches as mpatches\n",
    "import scipy as sp\n",
    "from scipy import linalg\n",
    "import sklearn\n",
    "from ipynb.fs.full.Laplace_approximation import * # import definitions used for Laplace approximation\n",
    "\n",
    "def sigmoid(x):\n",
    "    sig = 1 / (1 + np.exp(-x))\n",
    "    if(sig < 0.000000000001):\n",
    "        sig = 0.000000000001\n",
    "    return sig\n",
    "\n",
    "def d_sigmoid(x):\n",
    "    return np.exp(-x) / ((1 + np.exp(-x))*(1 + np.exp(-x)))   \n"
   ]
  },
  {
   "cell_type": "markdown",
   "metadata": {},
   "source": [
    "Firstly, data must be fed into the algorithm in the form of a co-occurrence matrix $\\mathbf{X} \\in \\mathbb{R}^{T \\times K}$ (the input) and the binary vector $\\mathbf{y} \\in \\mathbb{R}^T$ (the output). \n",
    "This can either be data fed in or simulated data. Due to UK data sensitivity laws, the Auto Trader dataset used in (ref?) cannot be uploaded here but a simulated dataset is used to show."
   ]
  },
  {
   "cell_type": "code",
   "execution_count": 8,
   "metadata": {},
   "outputs": [],
   "source": [
    "# simulated data in a single batch\n",
    "\n",
    "d = 6 # number of covariates\n",
    "H = np.ones(d)*(1/10**10) # vector of precision values\n",
    "H = np.diag((H)) # initialises Hessian as identity\n",
    "wprior = np.zeros((d)) # initialises prior vector\n",
    "w = np.zeros((d)) # initialises weight vector\n",
    "n = 50000 # number of samples\n",
    "X = np.ones((n,d))\n",
    "seed = 123 # use seed if needed \n",
    "batch_size = n\n",
    "np.random.seed(seed)\n",
    "for i in range(1,d): # random design matrix\n",
    "    X[:,i] = np.random.rand(n)\n",
    "\n",
    "beta = [1.0, 0.2, 1.5, -1.0, -0.7, -0.2] # weights \n",
    "z = beta[0]*X[:,0] + beta[1]*X[:,1] + beta[2]*X[:,2] + beta[3]*X[:,3] + beta[4]*X[:,4] + beta[5]*X[:,5] # linear combination of weights and covariates\n",
    "\n",
    "pr = 1/(1 + np.exp(-z)) # logistic activation function\n",
    "y = np.ones((n,1)) # initialise \n",
    "y = np.random.binomial(1,pr) # generate simulated observations from binomial distribution\n",
    "y2 = y # copy for Laplace bandit\n",
    "y_plot = y # used for plotting\n",
    "y = y*2-1 # for EP and ADF calculations we require y = {-1,+1}\n",
    "y3 = y\n",
    "X = np.concatenate((np.arange(X.shape[0]).reshape(-1,1),X), axis=1) # add row count column\n",
    "i_count = np.zeros(n,dtype=int)\n",
    "X2 = X # copy X for Laplace bandit\n",
    "i_count2 = i_count # copy for Laplace bandit\n"
   ]
  },
  {
   "cell_type": "code",
   "execution_count": 9,
   "metadata": {},
   "outputs": [],
   "source": [
    "# Assumed Density Filtering TS\n",
    "\n",
    "EP_update_point = 100 # at what point EP updates to give better estimate of posterior\n",
    "\n",
    "var = 100 # initial local variance\n",
    "\n",
    "V_global = (var)*np.eye(d) # initialise covariance matrix\n",
    "m_global = np.zeros((d,1)) # initialise mean vector\n",
    "i_count = np.zeros(n,dtype=int)\n",
    "\n",
    "for t in range(0,EP_update_point):\n",
    "    \n",
    "    theta = np.random.multivariate_normal(np.ravel(m_global),V_global) # posterior sample\n",
    "    i = np.argmax(X[:,1:X.shape[1]].dot(theta)) # find highest Thompson Sample\n",
    "    i_count[t] = X[i,0]\n",
    "    \n",
    "    # Cavity not required with ADF\n",
    "    Vmi = V_global\n",
    "    mmi = m_global\n",
    "            \n",
    "    k = 1/np.sqrt(1+ ((np.pi/8)*np.inner(X[i,1:X.shape[1]].dot(Vmi),X[i,1:X.shape[1]]))) # Mackay's approximation constant (constant)\n",
    "    zz = y[i]*(np.transpose(X[i,1:X.shape[1]]).dot(mmi))*k # k * x^T * m #######\n",
    "    Z = sigmoid(zz) # logistic function\n",
    "    d_Z = d_sigmoid(zz) # derivative of logistic function\n",
    "\n",
    "    alpha_ep = y[i]*k*(d_sigmoid(zz)/sigmoid(zz))*(X[i,1:X.shape[1]][np.newaxis, :].T) # log-partition diff wrt mmi\n",
    "    beta_ep = (-np.pi*k**2/16)*np.outer(X[i,1:X.shape[1]],X[i,1:X.shape[1]]).dot(np.outer(mmi,alpha_ep)) # log-partition diff wrt vmi\n",
    "                             \n",
    "    m_global = mmi + Vmi.dot(alpha_ep)# update of mean for approimating distribution q\n",
    "    V_global = Vmi - Vmi.dot((np.outer(alpha_ep,alpha_ep) - 2*beta_ep)).dot(Vmi) # update of variance for approimating distribution q    \n",
    "    \n",
    "    X = np.delete(X,i,axis=0) # erase used row from X\n",
    "    y = np.delete(y,i,axis=0) # erase used element from y"
   ]
  },
  {
   "cell_type": "code",
   "execution_count": 10,
   "metadata": {},
   "outputs": [],
   "source": [
    "# EP initialisation\n",
    "     \n",
    "cycle = 4 # number of cycles thrugh factor graph\n",
    "var = 100 # initial local variance\n",
    "V_local = np.zeros((EP_update_point,d,d))\n",
    "for i in range(0,EP_update_point):\n",
    "    V_local[i] = (var)*np.eye(d) # V matrix (for local approximations)\n",
    "V_global = np.eye(d) # v vector (for global approximations)\n",
    "Vmi = np.ones((d,d)) # initialises vmi\n",
    "m_local = np.zeros((EP_update_point,d)) # m matrix (for local approximations)\n",
    "m_global = np.zeros((d,1)) # m vector (for global approximations)\n",
    "mmi = np.ones((d,1)) # initialises mmi\n",
    "\n",
    "Prec_ep = np.zeros((d,d))\n",
    "for i in range(0,EP_update_point):\n",
    "    Prec_ep = Prec_ep + np.linalg.pinv(V_local[i])\n",
    "V_global = np.linalg.pinv(Prec_ep) # calculates global varaince (global precision = sum(local precisions))\n"
   ]
  },
  {
   "cell_type": "code",
   "execution_count": 11,
   "metadata": {},
   "outputs": [],
   "source": [
    "# EP now gives accurate approximation at EP_update_point\n",
    "\n",
    "for count in range(0,cycle): \n",
    "    for i in range(0,EP_update_point):\n",
    "        \n",
    "        # for each iteration i, a cavity distribtuion is formed. \n",
    "        Vmi = np.linalg.pinv( np.linalg.pinv( V_global ) - np.linalg.pinv( V_local[i] )) # variance vector for cavity(matrix)\n",
    "        mmi = Vmi.dot((np.linalg.pinv( V_global ).dot(m_global) - np.linalg.pinv( V_local[i] ).dot(m_local[i][np.newaxis, :].T)))# mean for cavity(vector) check...\n",
    "        \n",
    "        k = 1/np.sqrt(1+ ((np.pi/8)*np.inner(X2[i_count[i],1:].dot(Vmi),X2[i_count[i],1:]))) # Mackay's approximation constant (constant)\n",
    "        zz = y3[i_count[i]]*(np.transpose(X2[i_count[i],1:]).dot(mmi))*k \n",
    "        Z = sigmoid(zz) # logistic function\n",
    "        d_Z = d_sigmoid(zz) # derivative of logistic function\n",
    "        \n",
    "        alpha_ep = y3[i_count[i]]*k*(d_sigmoid(zz)/sigmoid(zz))*(X2[i_count[i],1:][np.newaxis, :].T) # log-partition diff wrt mmi\n",
    "        beta_ep = (-np.pi*k**2/16)*np.outer(X2[i_count[i],1:],X2[i_count[i],1:]).dot(np.outer(mmi,alpha_ep)) # log-partition diff wrt vmi\n",
    "                             \n",
    "        m_global = mmi + Vmi.dot(alpha_ep)# update of mean for approimating distribution q\n",
    "        V_global = Vmi - Vmi.dot((np.outer(alpha_ep,alpha_ep) - 2*beta_ep)).dot(Vmi) # update of variance for approimating distribution q\n",
    "\n",
    "        V_local[i] = np.linalg.pinv(np.linalg.pinv(V_global) - np.linalg.pinv(Vmi))\n",
    "        m_local[i] = (V_local[i].dot( np.linalg.pinv(V_global).dot(m_global) - np.linalg.pinv(Vmi).dot(mmi) ))[:,np.newaxis].T\n",
    "        \n"
   ]
  },
  {
   "cell_type": "code",
   "execution_count": 12,
   "metadata": {},
   "outputs": [
    {
     "name": "stderr",
     "output_type": "stream",
     "text": [
      "/Users/Jack/opt/anaconda3/lib/python3.7/site-packages/ipykernel_launcher.py:5: RuntimeWarning: covariance is not positive-semidefinite.\n",
      "  \"\"\"\n"
     ]
    }
   ],
   "source": [
    "# ADF takeover\n",
    "\n",
    "for t in range(EP_update_point,n):\n",
    "    \n",
    "    theta = np.random.multivariate_normal(np.ravel(m_global),V_global) # posterior sample\n",
    "    i = np.argmax(X[:,1:X.shape[1]].dot(theta)) # find highest Thompson Sample\n",
    "    i_count[t] = X[i,0]\n",
    "    \n",
    "    # Cavity not required with ADF\n",
    "    Vmi = V_global\n",
    "    mmi = m_global\n",
    "            \n",
    "    k = 1/np.sqrt(1+ ((np.pi/8)*np.inner(X[i,1:].dot(Vmi),X[i,1:]))) # Mackay's approximation constant (constant)\n",
    "    zz = y[i]*(np.transpose(X[i,1:]).dot(mmi))*k # k * x^T * m #######\n",
    "    Z = sigmoid(zz) # logistic function\n",
    "    d_Z = d_sigmoid(zz) # derivative of logistic function\n",
    "\n",
    "    alpha_ep = y[i]*k*(d_sigmoid(zz)/sigmoid(zz))*(X[i,1:][np.newaxis, :].T) # log-partition diff wrt mmi\n",
    "    beta_ep = (-np.pi*k**2/16)*np.outer(X[i,1:],X[i,1:]).dot(np.outer(mmi,alpha_ep)) # log-partition diff wrt vmi\n",
    "                             \n",
    "    m_global = mmi + Vmi.dot(alpha_ep)# update of mean for approimating distribution q\n",
    "    V_global = Vmi - Vmi.dot((np.outer(alpha_ep,alpha_ep) - 2*beta_ep)).dot(Vmi) # update of variance for approimating distribution q    \n",
    "    \n",
    "    X = np.delete(X,i,axis=0) # erase used row from X\n",
    "    y = np.delete(y,i,axis=0) # erase used element from y\n",
    "    "
   ]
  },
  {
   "cell_type": "code",
   "execution_count": 13,
   "metadata": {},
   "outputs": [],
   "source": [
    "# Laplace TS\n",
    "\n",
    "H = np.ones(d)*(1/10**2) # initialises Hessian (precision matrix) as identity (for Laplace)\n",
    "H = np.diag((H)) # initialises Hessian as identity (for Laplace)\n",
    "wprior = np.zeros((d)) # initialises prior vector\n",
    "w = np.zeros((d))\n",
    "X_L = np.empty((n,d)) # create empty X to later feed into Laplace \n",
    "y_L = np.empty(n) # create empty y to later feed into Laplace \n",
    "\n",
    "\n",
    "# First 10 iterations\n",
    "for t in range(0,10):\n",
    "    theta = np.random.multivariate_normal(np.ravel(w),np.linalg.inv(H)) # posterior sample\n",
    "    i = np.argmax(X2[:,1:].dot(theta)) # find highest Thompson Sample\n",
    "    i_count2[t] = X2[i,0]\n",
    "    X_L[t,:] = X2[i,1:] # build X_L so batch inference can be performed \n",
    "    y_L[t] = y2[i]# build y_L so batch inference can be performed \n",
    "    X2 = np.delete(X2,i,axis=0) # erase used row from X\n",
    "    y2 = np.delete(y2,i,axis=0) # erase used element from y\n",
    "\n",
    "\n",
    "for t in range(10,n):\n",
    "    \n",
    "    theta = np.random.multivariate_normal(np.ravel(w),np.linalg.inv(H)) # posterior sample\n",
    "    i = np.argmax(X2[:,1:].dot(theta)) # find highest Thompson Sample\n",
    "    i_count2[t] = X2[i,0] # find original row of X\n",
    "    X_L[t,:] = X2[i,1:] # build X_L so batch inference can be performed \n",
    "    y_L[t] = y2[i] # build y_L so batch inference can be performed \n",
    "    w, H = fit_bayes_logistic(y_L[0:t], X_L[0:t], wprior, H, weights=None, solver='Newton-CG', bounds=None, maxiter=1000)# Laplace inference  \n",
    "    X2 = np.delete(X2,i,axis=0) # erase used row from X\n",
    "    y2 = np.delete(y2,i,axis=0) # erase used element from y"
   ]
  },
  {
   "cell_type": "code",
   "execution_count": 14,
   "metadata": {},
   "outputs": [],
   "source": [
    "action_reward_Laplace = np.zeros(n)\n",
    "action_reward_FC = np.zeros(n)\n",
    "cumilative_action_reward_Laplace = np.zeros(n)\n",
    "cumilative_action_reward_FC = np.zeros(n)\n",
    "\n",
    "for i in range(0,n):\n",
    "    action_reward_Laplace[i] = y_plot[i_count2[i]]\n",
    "    action_reward_FC[i] = y_plot[i_count[i]]\n",
    "    \n",
    "cumilative_action_reward_Laplace = np.cumsum(action_reward_Laplace)\n",
    "cumilative_action_reward_FC = np.cumsum(action_reward_FC)\n"
   ]
  },
  {
   "cell_type": "code",
   "execution_count": 15,
   "metadata": {},
   "outputs": [
    {
     "data": {
      "text/plain": [
       "<matplotlib.legend.Legend at 0x1a1efd9fd0>"
      ]
     },
     "execution_count": 15,
     "metadata": {},
     "output_type": "execute_result"
    },
    {
     "data": {
      "image/png": "[encoded data removed]",
      "text/plain": [
       "<Figure size 432x288 with 1 Axes>"
      ]
     },
     "metadata": {
      "needs_background": "light"
     },
     "output_type": "display_data"
    }
   ],
   "source": [
    "import matplotlib\n",
    "x = np.arange(0, n)\n",
    "plt.step(x, cumilative_action_reward_FC, label='FAB-COST',color='blue')\n",
    "plt.step(x, cumilative_action_reward_Laplace, label='Laplace Bandit',color='green')\n",
    "matplotlib.rc('ytick', labelsize=15) \n",
    "matplotlib.rc('xtick', labelsize=15) \n",
    "plt.xlabel('Impressions', fontsize=18)\n",
    "plt.ylabel('Clicks recieved', fontsize=18)\n",
    "plt.title('', fontsize=18)\n",
    "plt.legend()"
   ]
  },
  {
   "cell_type": "code",
   "execution_count": 16,
   "metadata": {},
   "outputs": [
    {
     "name": "stderr",
     "output_type": "stream",
     "text": [
      "No handles with labels found to put in legend.\n"
     ]
    },
    {
     "data": {
      "text/plain": [
       "<matplotlib.legend.Legend at 0x1a1e1bec10>"
      ]
     },
     "execution_count": 16,
     "metadata": {},
     "output_type": "execute_result"
    },
    {
     "data": {
      "image/png": "[encoded data removed]",
      "text/plain": [
       "<Figure size 432x288 with 1 Axes>"
      ]
     },
     "metadata": {
      "needs_background": "light"
     },
     "output_type": "display_data"
    }
   ],
   "source": [
    "diff = cumilative_action_reward_FC - cumilative_action_reward_Laplace\n",
    "x = np.arange(0, n)\n",
    "plt.step(x, diff,color='blue',linewidth=0.5)\n",
    "matplotlib.rc('ytick', labelsize=15) \n",
    "matplotlib.rc('xtick', labelsize=15) \n",
    "plt.xlabel('Impressions', fontsize=18)\n",
    "plt.ylabel('Difference in clicks', fontsize=18)\n",
    "plt.title('', fontsize=18)\n",
    "plt.tight_layout()\n",
    "plt.savefig('FC_difference_in_clicks.pdf')\n",
    "plt.legend()"
   ]
  },
  {
   "cell_type": "code",
   "execution_count": 17,
   "metadata": {},
   "outputs": [
    {
     "name": "stderr",
     "output_type": "stream",
     "text": [
      "No handles with labels found to put in legend.\n"
     ]
    },
    {
     "data": {
      "text/plain": [
       "<matplotlib.legend.Legend at 0x1a1e2869d0>"
      ]
     },
     "execution_count": 17,
     "metadata": {},
     "output_type": "execute_result"
    },
    {
     "data": {
      "image/png": "[encoded data removed]",
      "text/plain": [
       "<Figure size 432x288 with 1 Axes>"
      ]
     },
     "metadata": {
      "needs_background": "light"
     },
     "output_type": "display_data"
    }
   ],
   "source": [
    "diff_percent = (cumilative_action_reward_FC - cumilative_action_reward_Laplace)/cumilative_action_reward_FC\n",
    "x = np.arange(25000, n)\n",
    "plt.step(x, diff_percent[25000:]*100,color='blue',linewidth=0.5)\n",
    "matplotlib.rc('ytick', labelsize=15) \n",
    "matplotlib.rc('xtick', labelsize=15) \n",
    "plt.xlabel('Impressions', fontsize=18)\n",
    "plt.ylabel('Difference in clicks (%)', fontsize=18)\n",
    "plt.title('', fontsize=18)\n",
    "plt.tight_layout()\n",
    "plt.savefig('FC_difference_in_clicks_percentage.pdf')\n",
    "plt.legend()"
   ]
  },
  {
   "cell_type": "code",
   "execution_count": null,
   "metadata": {},
   "outputs": [],
   "source": []
  }
 ],
 "metadata": {
  "kernelspec": {
   "display_name": "Python 3",
   "language": "python",
   "name": "python3"
  },
  "language_info": {
   "codemirror_mode": {
    "name": "ipython",
    "version": 3
   },
   "file_extension": ".py",
   "mimetype": "text/x-python",
   "name": "python",
   "nbconvert_exporter": "python",
   "pygments_lexer": "ipython3",
   "version": "3.7.4"
  }
 },
 "nbformat": 4,
 "nbformat_minor": 2
}
